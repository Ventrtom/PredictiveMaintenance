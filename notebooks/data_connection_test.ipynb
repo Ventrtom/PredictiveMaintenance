{
 "cells": [
  {
   "cell_type": "markdown",
   "id": "4cbe4e0b",
   "metadata": {},
   "source": [
    "# 🔍 Test načítání dat z Oracle DB\n",
    "Tento notebook ověřuje, že funguje připojení k databázi a že lze načíst záznamy ze všech klíčových tabulek."
   ]
  },
  {
   "cell_type": "code",
   "execution_count": null,
   "id": "67531868",
   "metadata": {},
   "outputs": [],
   "source": [
    "import sys\n",
    "import os\n",
    "import pandas as pd\n",
    "sys.path.append(os.path.abspath(\"..\"))\n",
    "from data.data_loader import (\n",
    "    preview_equipment_data,\n",
    "    preview_kpi_definitions,\n",
    "    fetch_kpi_definitions,\n",
    "    preview_sensor_data,\n",
    "    preview_maintenance_orders\n",
    ")"
   ]
  },
  {
   "cell_type": "code",
   "execution_count": null,
   "id": "58c5631e",
   "metadata": {},
   "outputs": [],
   "source": [
    "# 📄 EQUIPMENT – informace o zařízeních\n",
    "equipment_df = preview_equipment_data()\n",
    "equipment_df.head()"
   ]
  },
  {
   "cell_type": "code",
   "execution_count": null,
   "id": "dde49f47",
   "metadata": {},
   "outputs": [],
   "source": [
    "# 📄 FC_KPI_DEFINITION – seznam měřených veličin\n",
    "#kpi_df = preview_kpi_definitions()\n",
    "kpi_df = fetch_kpi_definitions()\n",
    "kpi_df.head(50)\n"
   ]
  },
  {
   "cell_type": "code",
   "execution_count": null,
   "id": "08ed11c3",
   "metadata": {},
   "outputs": [],
   "source": [
    "# 📄 FC_OBJECT_DATA – historická senzorová data\n",
    "sensor_df = preview_sensor_data()\n",
    "sensor_df.head()"
   ]
  },
  {
   "cell_type": "code",
   "execution_count": null,
   "id": "4a9d9056",
   "metadata": {},
   "outputs": [],
   "source": [
    "# 📄 MAINTENANCE_ORDER – záznamy o údržbě\n",
    "maintenance_df = preview_maintenance_orders()\n",
    "maintenance_df.head()"
   ]
  }
 ],
 "metadata": {
  "kernelspec": {
   "display_name": ".venv",
   "language": "python",
   "name": "python3"
  },
  "language_info": {
   "codemirror_mode": {
    "name": "ipython",
    "version": 3
   },
   "file_extension": ".py",
   "mimetype": "text/x-python",
   "name": "python",
   "nbconvert_exporter": "python",
   "pygments_lexer": "ipython3",
   "version": "3.11.3"
  }
 },
 "nbformat": 4,
 "nbformat_minor": 5
}
