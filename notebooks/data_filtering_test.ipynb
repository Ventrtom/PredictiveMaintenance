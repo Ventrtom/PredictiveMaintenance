{
 "cells": [
  {
   "cell_type": "code",
   "execution_count": null,
   "id": "7cb6f67e",
   "metadata": {},
   "outputs": [],
   "source": [
    "# 🧠 Predictive Maintenance – Test načítání dat s filtrem\n",
    "# 📦 Importy:\n",
    "\n",
    "import sys\n",
    "import os\n",
    "import pandas as pd\n",
    "sys.path.append(os.path.abspath(\"..\"))\n",
    "from data.database_connection import get_engine\n",
    "from data.data_loader import (\n",
    "    get_unique_equipment_ids,\n",
    "    get_unique_kpi_ids,\n",
    "    get_unique_object_ids,\n",
    "    fetch_sensor_data_filtered\n",
    ")"
   ]
  },
  {
   "cell_type": "code",
   "execution_count": null,
   "id": "8b012ef5",
   "metadata": {},
   "outputs": [],
   "source": [
    "# --- 1. Získání dostupných hodnot ---\n",
    "\n",
    "print(\"🔎 Načítám dostupné hodnoty z databáze...\")\n",
    "\n",
    "equipment_ids = get_unique_equipment_ids()\n",
    "kpi_ids = get_unique_kpi_ids()\n",
    "object_ids = get_unique_object_ids()\n",
    "\n",
    "print(f\"✅ {len(equipment_ids)} unikátních equipment_id\")\n",
    "print(f\"✅ {len(kpi_ids)} unikátních kpi_id\")\n",
    "print(f\"✅ {len(object_ids)} unikátních object_id\")"
   ]
  },
  {
   "cell_type": "code",
   "execution_count": null,
   "id": "ef94b4d2",
   "metadata": {},
   "outputs": [],
   "source": [
    "# --- 2. Ruční výběr hodnot pro testování ---\n",
    "\n",
    "# ZDE MĚŇ PARAMETRY PRO TEST\n",
    "selected_object_id = 1\n",
    "selected_kpi_id = None # nebo konkrétní KPI stylem [1,2,3] \n",
    "start_time = \"2025-01-01 00:00:00\"\n",
    "end_time = \"2025-03-01 00:00:00\"\n",
    "\n",
    "print(f\"\\n🎯 Vybrané parametry:\\n- FC OBJECT ID: {selected_object_id}\\n- KPI ID: {selected_kpi_id}\\n- Období: {start_time} – {end_time}\")"
   ]
  },
  {
   "cell_type": "code",
   "execution_count": null,
   "id": "8470d388",
   "metadata": {},
   "outputs": [],
   "source": [
    "# --- 3. Filtrování dat ---\n",
    "filtered_df = fetch_sensor_data_filtered(\n",
    "    object_id=selected_object_id,\n",
    "    kpi_ids=selected_kpi_id,\n",
    "    start_time=start_time,\n",
    "    end_time=end_time\n",
    ")"
   ]
  },
  {
   "cell_type": "code",
   "execution_count": null,
   "id": "27df6407",
   "metadata": {},
   "outputs": [],
   "source": [
    "# --- 4. Náhled výsledku ---\n",
    "print(f\"\\n📊 Načteno {len(filtered_df)} řádků.\")\n",
    "filtered_df.head(3)"
   ]
  },
  {
   "cell_type": "code",
   "execution_count": null,
   "id": "34c07619",
   "metadata": {},
   "outputs": [],
   "source": [
    "# Předzpracování vyžaduje sloupce: timestamp, object_id, kpi_id, value\n",
    "\n",
    "df = filtered_df.rename(columns={\n",
    "    'data_timestamp': 'timestamp',\n",
    "    'id_fc_object': 'object_id',\n",
    "    'id_fc_kpi_definition': 'kpi_id',\n",
    "    'value': 'value'\n",
    "})"
   ]
  },
  {
   "cell_type": "code",
   "execution_count": null,
   "id": "1c78c4d7",
   "metadata": {},
   "outputs": [],
   "source": [
    "# Spuštění předzpracování\n",
    "from utils.preprocessing import preprocess_sensor_data\n",
    "from utils.preprocessing2 import preprocess_sensor_data2\n",
    "\n",
    "processed = preprocess_sensor_data2(df, impute=True)"
   ]
  },
  {
   "cell_type": "code",
   "execution_count": null,
   "id": "d597748f",
   "metadata": {},
   "outputs": [],
   "source": [
    "# Vezmeme první stroj (object_id) a zobrazíme jeho dataframe\n",
    "if processed:\n",
    "    first_object_id = list(processed.keys())[0]\n",
    "    print(f\"🔍 Výstup pro object_id: {first_object_id}\")\n",
    "    display(processed[first_object_id].head(5))\n",
    "else:\n",
    "    print(\"⚠️ Nebyla nalezena žádná data po zpracování.\")"
   ]
  },
  {
   "cell_type": "code",
   "execution_count": null,
   "id": "17887340",
   "metadata": {},
   "outputs": [],
   "source": [
    "from utils.visualization import (\n",
    "    plot_kpi_raw_trends,\n",
    "    plot_kpi_rolling,\n",
    "    plot_correlation_heatmap,\n",
    "    plot_feature_distributions,\n",
    "    plot_missing_data_pattern\n",
    ")"
   ]
  },
  {
   "cell_type": "code",
   "execution_count": null,
   "id": "22670ce2",
   "metadata": {},
   "outputs": [],
   "source": [
    "# Trendy pro KPI\n",
    "plot_kpi_raw_trends(\n",
    "    df=processed,            # Vstupní data – buď slovník {object_id: DataFrame}, nebo přímo DataFrame\n",
    "    object_id=1,             # ID objektu – použije se pouze pokud je df slovník\n",
    "\n",
    "    kpi_ids=None,            # Seznam KPI, které chceš vykreslit (např. [7, 8, 23])\n",
    "                             # Pokud None, zobrazí se všechny číselné sloupce (raw i engineered)\n",
    "\n",
    "    feature_types=[          # Volitelné zúžení podle typu feature:\n",
    "        'raw'              \n",
    "        #   'raw' Originální KPI hodnoty (např. '7', '8', '23')             \n",
    "        #   'mean' Rolling průměry (např. 'mean_6')               \n",
    "        #   'std' Rolling směrodatné odchylky (např. 'std_3')       \n",
    "        #   'diff1' První diference\n",
    "        #   'diff2' Druhá diference        \n",
    "        #   'pct_change' Procentuální změna        \n",
    "        #   'time_since' Speciální sloupec 'time_since_last'\n",
    "        #   'rolling' Zástupný typ – zahrne mean + std dohromady\n",
    "    ],\n",
    "\n",
    "    agg_freq='1h',           # Agregační frekvence (resampling), např. '1min', '15t', '1h'\n",
    "                             # Použije se na časovou osu – např. 1h = průměrování po hodinách\n",
    "\n",
    "    highlight_missing=True,   # Zvýraznit chybějící hodnoty červenými značkami (např. kde je NaN)\n",
    "    start_time=None,   # Počáteční časový filtr buďto nechat \"start_time\" nebo konkrétní čas (např. \"2025-01-01 00:00:00\")\n",
    "    end_time=None       # Koncový časový filtr buďto nechat \"end_time\" nebo konkrétní čas (např. \"2025-03-01 00:00:00\")\n",
    ")\n"
   ]
  },
  {
   "cell_type": "code",
   "execution_count": null,
   "id": "b7e40cfc",
   "metadata": {},
   "outputs": [],
   "source": [
    "# Rolling mean s oknem 6 vzorků\n",
    "plot_kpi_rolling(\n",
    "    df=processed,                # Dict nebo DataFrame\n",
    "    object_id=1,                 # ID objektu (stroje)\n",
    "    kpi_ids=[1],                # Seznam KPI (např. [23, 24]) nebo None = všechny KPI\n",
    "    window=6,                    # Rolling okno (počet časových kroků), např. 6\n",
    "    method='mean',                # Typ výpočtu: 'mean', 'std', 'max', 'min', ...\n",
    "    start_time=start_time,       # Počáteční časový filtr\n",
    "    end_time=end_time            # Koncový časový filtr\n",
    ")"
   ]
  },
  {
   "cell_type": "code",
   "execution_count": null,
   "id": "ac41a839",
   "metadata": {},
   "outputs": [],
   "source": [
    "plot_correlation_heatmap(\n",
    "    df=processed,            # Vstupní data – buď DataFrame nebo dict ve formátu {object_id: DataFrame}\n",
    "    object_id=1,             # ID objektu – použije se jako klíč pro výběr ze slovníku (pokud je df typu dict)\n",
    "\n",
    "    kpi_ids=None,            # Volitelný výběr konkrétních KPI podle ID – např. [7, 8, 23]\n",
    "                             # Pokud None, použijí se všechny KPI (dle výběru feature types níže)\n",
    "\n",
    "    feature_types=[          # Výběr typů sloupců (feature), které se mají zahrnout do korelační matice:\n",
    "        'raw'           \n",
    "        #   'raw' Pouze původní KPI sloupce, např. '7', '8', '23'\n",
    "        #   'mean' Rolling průměr, např. '7_mean_6'\n",
    "        #   'std' Rolling směrodatná odchylka, např. '7_std_6'\n",
    "        #   'diff1' První diference, např. '7_diff1'\n",
    "        #   'diff2' Druhá diference, např. '7_diff2'\n",
    "        #   'pct_change' Procentuální změna, např. '7_pct_change'\n",
    "        #   'time_since' Speciální feature např. 'time_since_last'\n",
    "        #   'rolling' Zahrne všechny rolling features (mean_, std_), alias pro pohodlí\n",
    "    ],\n",
    "    start_time=start_time,       # Počáteční časový filtr\n",
    "    end_time=end_time            # Koncový časový filtr\n",
    ")"
   ]
  },
  {
   "cell_type": "code",
   "execution_count": null,
   "id": "f5e60be2",
   "metadata": {},
   "outputs": [],
   "source": [
    "# Histogramy dat\n",
    "plot_feature_distributions(\n",
    "    df=processed,              # Dict nebo DataFrame\n",
    "    object_id=1,               # ID objektu\n",
    "    kpi_ids=[1],              # Konkrétní KPI (např. [8, 23, 25]); None = všechny\n",
    "    raw=False,                 # True = použít neskalovaná data (pouze originální KPI)\n",
    "    log=False,                  # True = logaritmická osa pro histogram\n",
    "    start_time=start_time,       # Počáteční časový filtr\n",
    "    end_time=end_time            # Koncový časový filtr\n",
    ")"
   ]
  },
  {
   "cell_type": "code",
   "execution_count": null,
   "id": "0ab9fd29",
   "metadata": {},
   "outputs": [],
   "source": [
    "# Vizualizace chybějících dat\n",
    "plot_missing_data_pattern(\n",
    "    df=processed,              # Dict nebo DataFrame\n",
    "    object_id=1,               # ID objektu\n",
    "    n_rows=500,                 # Počet časových řádků k zobrazení (např. 500 = prvních 500 timestamps)\n",
    "    start_time=start_time,       # Počáteční časový filtr\n",
    "    end_time=end_time            # Koncový časový filtr\n",
    ")"
   ]
  }
 ],
 "metadata": {
  "kernelspec": {
   "display_name": ".venv",
   "language": "python",
   "name": "python3"
  },
  "language_info": {
   "codemirror_mode": {
    "name": "ipython",
    "version": 3
   },
   "file_extension": ".py",
   "mimetype": "text/x-python",
   "name": "python",
   "nbconvert_exporter": "python",
   "pygments_lexer": "ipython3",
   "version": "3.11.3"
  }
 },
 "nbformat": 4,
 "nbformat_minor": 5
}
